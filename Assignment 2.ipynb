{
  "cells": [
    {
      "cell_type": "markdown",
      "metadata": {
        "id": "j0hvP9kCWAC4"
      },
      "source": [
        "<h1 style=\"color:rgb(0,120,170)\">Assignment 2: Maximum Likelihood</h1>"
      ]
    },
    {
      "cell_type": "markdown",
      "metadata": {
        "id": "-GYvZ1jCWAC8"
      },
      "source": [
        "<h3 style=\"color:rgb(210,90,80)\">Exercise 1 (25 points):</h3>\n",
        "\n",
        "Compute the Maximum Likelihood Estimator for the parameter $\\lambda > 0$ of a\n",
        "Poisson distribution. This means: Assuming we have data samples ${x_{1},x_{2},...,x_{n}}$, we want to\n",
        "find the $\\lambda$ that maximizes the likelihood\n",
        "\n",
        "$$\n",
        "\\mathcal{L}(\\lambda) = \\prod_{i=1}^{n} \\mathcal{P}(x_{i}; \\lambda) = \\prod_{i=1}^{n} \\frac{\\lambda^{x_{i}}}{x_{i}!} \\mathcal{e}^{-\\lambda}\n",
        "$$\n",
        "\n",
        "\n",
        "**Hint:** You will have a much easier time if you compute with the log-likelihood as compared to the likelihood.\n",
        "\n",
        "You should arrive at this solution: $\\hat{\\lambda} = \\frac 1 n \\sum_{i=1}^{n} x_{i}$."
      ]
    },
    {
      "cell_type": "markdown",
      "metadata": {
        "id": "vsGAxyl8WAC8"
      },
      "source": [
        "L(λ)=∏i=1nP(xi;λ)=∏i=1nλxixi!e−λ\n",
        "\n",
        "ln L(λ) = ∑i=1n (x_i ln λ - λ - ln x_i!)\n",
        "\n",
        "d/dλ ln L(λ) = ∑i=1n (x_i / λ - 1) = 0\n",
        "\n",
        "∑i=1n x_i = nλ\n",
        "\n",
        "Therefore, the MLE for λ is:\n",
        "\n",
        "λ^ = (∑i=1n x_i) / n"
      ]
    },
    {
      "cell_type": "markdown",
      "metadata": {
        "id": "4II6-05MWAC8"
      },
      "source": [
        "In the next exercises, we will plot the log-likelihood from the previous task as a function of $\\lambda$ and mark the\n",
        "position where the maximum occurs. Use the data stored in poisson.csv for this task. As\n",
        "possible values for $\\lambda$ we suggest values from $1$ to $50$ with a step size of $0.5$, i.e. $(1.0, 1.5, 2.0, ...).$ "
      ]
    },
    {
      "cell_type": "code",
      "execution_count": 8,
      "metadata": {
        "colab": {
          "base_uri": "https://localhost:8080/",
          "height": 206
        },
        "id": "amXn69sZWAC9",
        "outputId": "31b8f955-d6c7-4922-df4e-f83fb6b9fc0e"
      },
      "outputs": [
        {
          "output_type": "execute_result",
          "data": {
            "text/plain": [
              "    0\n",
              "0  11\n",
              "1  10\n",
              "2  11\n",
              "3   9\n",
              "4  12"
            ],
            "text/html": [
              "\n",
              "  <div id=\"df-8696b9ee-3173-404b-8820-70081b3793da\">\n",
              "    <div class=\"colab-df-container\">\n",
              "      <div>\n",
              "<style scoped>\n",
              "    .dataframe tbody tr th:only-of-type {\n",
              "        vertical-align: middle;\n",
              "    }\n",
              "\n",
              "    .dataframe tbody tr th {\n",
              "        vertical-align: top;\n",
              "    }\n",
              "\n",
              "    .dataframe thead th {\n",
              "        text-align: right;\n",
              "    }\n",
              "</style>\n",
              "<table border=\"1\" class=\"dataframe\">\n",
              "  <thead>\n",
              "    <tr style=\"text-align: right;\">\n",
              "      <th></th>\n",
              "      <th>0</th>\n",
              "    </tr>\n",
              "  </thead>\n",
              "  <tbody>\n",
              "    <tr>\n",
              "      <th>0</th>\n",
              "      <td>11</td>\n",
              "    </tr>\n",
              "    <tr>\n",
              "      <th>1</th>\n",
              "      <td>10</td>\n",
              "    </tr>\n",
              "    <tr>\n",
              "      <th>2</th>\n",
              "      <td>11</td>\n",
              "    </tr>\n",
              "    <tr>\n",
              "      <th>3</th>\n",
              "      <td>9</td>\n",
              "    </tr>\n",
              "    <tr>\n",
              "      <th>4</th>\n",
              "      <td>12</td>\n",
              "    </tr>\n",
              "  </tbody>\n",
              "</table>\n",
              "</div>\n",
              "      <button class=\"colab-df-convert\" onclick=\"convertToInteractive('df-8696b9ee-3173-404b-8820-70081b3793da')\"\n",
              "              title=\"Convert this dataframe to an interactive table.\"\n",
              "              style=\"display:none;\">\n",
              "        \n",
              "  <svg xmlns=\"http://www.w3.org/2000/svg\" height=\"24px\"viewBox=\"0 0 24 24\"\n",
              "       width=\"24px\">\n",
              "    <path d=\"M0 0h24v24H0V0z\" fill=\"none\"/>\n",
              "    <path d=\"M18.56 5.44l.94 2.06.94-2.06 2.06-.94-2.06-.94-.94-2.06-.94 2.06-2.06.94zm-11 1L8.5 8.5l.94-2.06 2.06-.94-2.06-.94L8.5 2.5l-.94 2.06-2.06.94zm10 10l.94 2.06.94-2.06 2.06-.94-2.06-.94-.94-2.06-.94 2.06-2.06.94z\"/><path d=\"M17.41 7.96l-1.37-1.37c-.4-.4-.92-.59-1.43-.59-.52 0-1.04.2-1.43.59L10.3 9.45l-7.72 7.72c-.78.78-.78 2.05 0 2.83L4 21.41c.39.39.9.59 1.41.59.51 0 1.02-.2 1.41-.59l7.78-7.78 2.81-2.81c.8-.78.8-2.07 0-2.86zM5.41 20L4 18.59l7.72-7.72 1.47 1.35L5.41 20z\"/>\n",
              "  </svg>\n",
              "      </button>\n",
              "      \n",
              "  <style>\n",
              "    .colab-df-container {\n",
              "      display:flex;\n",
              "      flex-wrap:wrap;\n",
              "      gap: 12px;\n",
              "    }\n",
              "\n",
              "    .colab-df-convert {\n",
              "      background-color: #E8F0FE;\n",
              "      border: none;\n",
              "      border-radius: 50%;\n",
              "      cursor: pointer;\n",
              "      display: none;\n",
              "      fill: #1967D2;\n",
              "      height: 32px;\n",
              "      padding: 0 0 0 0;\n",
              "      width: 32px;\n",
              "    }\n",
              "\n",
              "    .colab-df-convert:hover {\n",
              "      background-color: #E2EBFA;\n",
              "      box-shadow: 0px 1px 2px rgba(60, 64, 67, 0.3), 0px 1px 3px 1px rgba(60, 64, 67, 0.15);\n",
              "      fill: #174EA6;\n",
              "    }\n",
              "\n",
              "    [theme=dark] .colab-df-convert {\n",
              "      background-color: #3B4455;\n",
              "      fill: #D2E3FC;\n",
              "    }\n",
              "\n",
              "    [theme=dark] .colab-df-convert:hover {\n",
              "      background-color: #434B5C;\n",
              "      box-shadow: 0px 1px 3px 1px rgba(0, 0, 0, 0.15);\n",
              "      filter: drop-shadow(0px 1px 2px rgba(0, 0, 0, 0.3));\n",
              "      fill: #FFFFFF;\n",
              "    }\n",
              "  </style>\n",
              "\n",
              "      <script>\n",
              "        const buttonEl =\n",
              "          document.querySelector('#df-8696b9ee-3173-404b-8820-70081b3793da button.colab-df-convert');\n",
              "        buttonEl.style.display =\n",
              "          google.colab.kernel.accessAllowed ? 'block' : 'none';\n",
              "\n",
              "        async function convertToInteractive(key) {\n",
              "          const element = document.querySelector('#df-8696b9ee-3173-404b-8820-70081b3793da');\n",
              "          const dataTable =\n",
              "            await google.colab.kernel.invokeFunction('convertToInteractive',\n",
              "                                                     [key], {});\n",
              "          if (!dataTable) return;\n",
              "\n",
              "          const docLinkHtml = 'Like what you see? Visit the ' +\n",
              "            '<a target=\"_blank\" href=https://colab.research.google.com/notebooks/data_table.ipynb>data table notebook</a>'\n",
              "            + ' to learn more about interactive tables.';\n",
              "          element.innerHTML = '';\n",
              "          dataTable['output_type'] = 'display_data';\n",
              "          await google.colab.output.renderOutput(dataTable, element);\n",
              "          const docLink = document.createElement('div');\n",
              "          docLink.innerHTML = docLinkHtml;\n",
              "          element.appendChild(docLink);\n",
              "        }\n",
              "      </script>\n",
              "    </div>\n",
              "  </div>\n",
              "  "
            ]
          },
          "metadata": {},
          "execution_count": 8
        }
      ],
      "source": [
        "import pandas as pd\n",
        "import matplotlib.pyplot as plt\n",
        "import numpy as np\n",
        "data_df = pd.read_csv('poisson.csv',header=None)\n",
        "\n",
        "# print the head of the dataset, good practice\n",
        "data_df.head()"
      ]
    },
    {
      "cell_type": "code",
      "execution_count": 9,
      "metadata": {
        "colab": {
          "base_uri": "https://localhost:8080/"
        },
        "id": "SgI5BWdPWAC-",
        "outputId": "a8f0dabf-7179-4ace-e908-0f0c949c784f"
      },
      "outputs": [
        {
          "output_type": "stream",
          "name": "stdout",
          "text": [
            "<class 'pandas.core.frame.DataFrame'>\n",
            "<class 'numpy.ndarray'>\n"
          ]
        }
      ],
      "source": [
        "X = data_df.values[:,0]\n",
        "\n",
        "print(type(data_df))\n",
        "print(type(X))"
      ]
    },
    {
      "cell_type": "code",
      "execution_count": 10,
      "metadata": {
        "colab": {
          "base_uri": "https://localhost:8080/",
          "height": 333
        },
        "id": "r8GoZSf-WAC-",
        "outputId": "94798961-6d3b-436e-84e2-3942c0e0cc1a"
      },
      "outputs": [
        {
          "output_type": "display_data",
          "data": {
            "text/plain": [
              "<Figure size 800x300 with 1 Axes>"
            ],
            "image/png": "[encoded data removed]"
          },
          "metadata": {}
        }
      ],
      "source": [
        "plt.figure(figsize=(8,3))\n",
        "plt.hist(X)\n",
        "plt.xlabel('x')\n",
        "plt.ylabel('p(x)')\n",
        "plt.title('Histogram of poisson.csv');\n",
        "plt.show()"
      ]
    },
    {
      "cell_type": "markdown",
      "metadata": {
        "id": "GThtQqACWAC_"
      },
      "source": [
        "**Log Likelihood:**"
      ]
    },
    {
      "cell_type": "code",
      "execution_count": 11,
      "metadata": {
        "id": "Ab2VXK4VWAC_"
      },
      "outputs": [],
      "source": [
        "import math\n",
        "\n",
        "def loglikelihood(x, lam):\n",
        "    if lam == 0:\n",
        "        return -1\n",
        "    lnL = 0 \n",
        "    for xi in x:\n",
        "        lnL += xi*np.log(lam)-np.log(math.factorial(xi))-lam\n",
        "    return lnL"
      ]
    },
    {
      "cell_type": "code",
      "execution_count": 12,
      "metadata": {
        "colab": {
          "base_uri": "https://localhost:8080/"
        },
        "id": "l3uQJBaGWADA",
        "outputId": "a5f7d37e-2b30-4f4d-8c6d-f6d4f5e5d970"
      },
      "outputs": [
        {
          "output_type": "stream",
          "name": "stdout",
          "text": [
            "(1000,)\n",
            "lnL(1)  = -17657.38\n",
            "lnL(10) =  -2256.88\n",
            "lnL(20) =  -4911.60\n",
            "lnL(30) = -10614.89\n",
            "lnL(40) = -17566.32\n",
            "lnL(50) = -25201.67\n"
          ]
        }
      ],
      "source": [
        "#test the function\n",
        "lam_set = np.linspace(1,50,99)\n",
        "print(X.shape)\n",
        "\n",
        "print(\"lnL(1)  = %9.2f\"%loglikelihood(X,lam_set[0]))\n",
        "print(\"lnL(10) = %9.2f\"%loglikelihood(X,lam_set[9*2]))\n",
        "print(\"lnL(20) = %9.2f\"%loglikelihood(X,lam_set[19*2]))\n",
        "print(\"lnL(30) = %9.2f\"%loglikelihood(X,lam_set[29*2]))\n",
        "print(\"lnL(40) = %9.2f\"%loglikelihood(X,lam_set[39*2]))\n",
        "print(\"lnL(50) = %9.2f\"%loglikelihood(X,lam_set[49*2]))"
      ]
    },
    {
      "cell_type": "markdown",
      "metadata": {
        "id": "sbF9Z_UiWADA"
      },
      "source": [
        "<h3 style=\"color:rgb(210,90,80)\">Exercise 2 (5 points):</h3>\n",
        "\n",
        "Implement the `estimator_formula` function returning the analytic solution for lambda-hat"
      ]
    },
    {
      "cell_type": "code",
      "execution_count": 13,
      "metadata": {
        "id": "QJPx4v0iWADA"
      },
      "outputs": [],
      "source": [
        "def estimator_formula(X):\n",
        "    lam_hat = np.sum(X) / len(X)\n",
        "    return lam_hat"
      ]
    },
    {
      "cell_type": "code",
      "execution_count": 14,
      "metadata": {
        "colab": {
          "base_uri": "https://localhost:8080/"
        },
        "id": "LevzO69GWADB",
        "outputId": "8750ae30-7ac7-427d-eaf2-c81ee3d146f7"
      },
      "outputs": [
        {
          "output_type": "stream",
          "name": "stdout",
          "text": [
            "Likelihood is maximal at lambda-hat (formula) =    10.597\n",
            "            Log-Likelihood at this lambda-hat = -2239.405\n"
          ]
        }
      ],
      "source": [
        "lam_max_formula = estimator_formula(X)\n",
        "print('Likelihood is maximal at lambda-hat (formula) = %9.3f'%lam_max_formula)\n",
        "print('            Log-Likelihood at this lambda-hat = %9.3f'%loglikelihood(X,lam_max_formula))"
      ]
    },
    {
      "cell_type": "markdown",
      "metadata": {
        "id": "WEnp7g2yWADB"
      },
      "source": [
        "<h3 style=\"color:rgb(210,90,80)\">Exercise 3 (5 points):</h3>\n",
        "\n",
        "Implement the `estimator_support` function returning an estimate for lambda-hat numerically using argmax over the suggested support points of lambda"
      ]
    },
    {
      "cell_type": "code",
      "execution_count": 17,
      "metadata": {
        "id": "dTyHy_1dWADB"
      },
      "outputs": [],
      "source": [
        "def estimator_support(X, lam_set):\n",
        "    loglikelih = [loglikelihood(X,lami) for lami in lam_set]\n",
        "    ln_min = np.min(loglikelih)\n",
        "    ln_max = np.max(loglikelih)\n",
        "    lam_max = lam_set[np.argmax(loglikelih)]\n",
        "    \n",
        "    return loglikelih, ln_min, ln_max, lam_max"
      ]
    },
    {
      "cell_type": "code",
      "execution_count": 18,
      "metadata": {
        "id": "XtRw9OYnWADB",
        "colab": {
          "base_uri": "https://localhost:8080/"
        },
        "outputId": "6e15a61c-1658-43e9-c30a-bc18b8186938"
      },
      "outputs": [
        {
          "output_type": "stream",
          "name": "stdout",
          "text": [
            "Likelihood is maximal at lambda-hat (argmax) =    10.500\n",
            "Log-Likelihood at this lambda-hat = -2239.852\n"
          ]
        }
      ],
      "source": [
        "loglikelih, ln_min, ln_max, lam_max = estimator_support(X, lam_set)\n",
        "print('Likelihood is maximal at lambda-hat (argmax) = %9.3f'%lam_max)\n",
        "print('Log-Likelihood at this lambda-hat = %9.3f'%loglikelihood(X,lam_max))"
      ]
    },
    {
      "cell_type": "markdown",
      "metadata": {
        "id": "7z4145IKWADB"
      },
      "source": [
        "<h3 style=\"color:rgb(210,90,80)\">Exercise 4 (15 points):</h3>\n",
        "\n",
        "* Plot the loglikelihood function over `lam_set`\n",
        "* Mark the maxima in the plot according to `estimator_formula` and `estimator_support`"
      ]
    },
    {
      "cell_type": "code",
      "execution_count": 31,
      "metadata": {
        "id": "Rp_jFgJLWADC",
        "colab": {
          "base_uri": "https://localhost:8080/",
          "height": 466
        },
        "outputId": "922e5289-c204-4308-8ff4-4b84f28c9744"
      },
      "outputs": [
        {
          "output_type": "execute_result",
          "data": {
            "text/plain": [
              "<matplotlib.legend.Legend at 0x7f919acd9fd0>"
            ]
          },
          "metadata": {},
          "execution_count": 31
        },
        {
          "output_type": "display_data",
          "data": {
            "text/plain": [
              "<Figure size 640x480 with 1 Axes>"
            ],
            "image/png": "[encoded data removed]"
          },
          "metadata": {}
        }
      ],
      "source": [
        "# plot loglikelihood as a function of lambda\n",
        "fig, ax = plt.subplots()\n",
        "ax.plot(lam_set, loglikelih)\n",
        "ax.set_xlabel('Lambda')\n",
        "ax.set_ylabel('Log-likelihood')\n",
        "\n",
        "# mark maximum likelihood estimatese\n",
        "ax.axvline(estimator_formula(X), color='r', linestyle='--', label='Lambda-hat (formula)')\n",
        "ax.axvline(lam_max, color='g', linestyle='--', label='Lambda-hat (support)')\n",
        "ax.legend()"
      ]
    }
  ],
  "metadata": {
    "kernelspec": {
      "display_name": "Python 3 (ipykernel)",
      "language": "python",
      "name": "python3"
    },
    "language_info": {
      "codemirror_mode": {
        "name": "ipython",
        "version": 3
      },
      "file_extension": ".py",
      "mimetype": "text/x-python",
      "name": "python",
      "nbconvert_exporter": "python",
      "pygments_lexer": "ipython3",
      "version": "3.10.6"
    },
    "colab": {
      "provenance": []
    }
  },
  "nbformat": 4,
  "nbformat_minor": 0
}